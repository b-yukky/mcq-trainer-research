{
 "cells": [
  {
   "cell_type": "code",
   "execution_count": 1,
   "metadata": {},
   "outputs": [
    {
     "data": {
      "text/plain": [
       "True"
      ]
     },
     "execution_count": 1,
     "metadata": {},
     "output_type": "execute_result"
    }
   ],
   "source": [
    "import openai\n",
    "from dotenv import load_dotenv\n",
    "from models.OpenAIChatGPTGenerator import OpenAIChatGPTGenerator\n",
    "\n",
    "load_dotenv()\n"
   ]
  },
  {
   "cell_type": "code",
   "execution_count": 2,
   "metadata": {},
   "outputs": [],
   "source": [
    "generator = OpenAIChatGPTGenerator()"
   ]
  },
  {
   "cell_type": "code",
   "execution_count": 29,
   "metadata": {},
   "outputs": [],
   "source": [
    "context = '''What does it mean that four meta-analyses, summarizing hundreds of experiments, revealed no consistent, specific fingerprints in the autonomic nervous system for different emotions? It doesn’t mean that emotions are an illusion, or that bodily responses are random. It means that on different occasions, in different contexts, in different studies, within the same individual and across different individuals, the same emotion category involves different bodily responses. Variation, not uniformity, is the norm. These results are consistent with what physiologists have known for over fifty years: different behaviors have different patterns of heart rate, breathing, and so on to support their unique movements.28 Despite tremendous time and investment, research has not revealed a consistent bodily fingerprint for even a single emotion.\n",
    "\n",
    "'''"
   ]
  },
  {
   "cell_type": "code",
   "execution_count": 30,
   "metadata": {},
   "outputs": [
    {
     "name": "stdout",
     "output_type": "stream",
     "text": [
      "generate 1 question with 4 options on the following text: \"What does it mean that four meta-analyses, summarizing hundreds of experiments, revealed no consistent, specific fingerprints in the autonomic nervous system for different emotions? It doesn’t mean that emotions are an illusion, or that bodily responses are random. It means that on different occasions, in different contexts, in different studies, within the same individual and across different individuals, the same emotion category involves different bodily responses. Variation, not uniformity, is the norm. These results are consistent with what physiologists have known for over fifty years: different behaviors have different patterns of heart rate, breathing, and so on to support their unique movements.28 Despite tremendous time and investment, research has not revealed a consistent bodily fingerprint for even a single emotion.\n",
      "\n",
      "\". the true answer is option B\n",
      "{\n",
      "  \"content\": \"\\n\\nWhat is the reason behind the lack of consistent bodily responses for different emotions?\\n\\nA) Emotions do not have any impact on the autonomic nervous system.\\nB) Different emotions involve different bodily responses, leading to variation instead of uniformity.\\nC) Physiologists have not been able to understand bodily responses to emotions.\\nD) Research on emotions and bodily responses has not been conducted for long enough.\",\n",
      "  \"role\": \"assistant\"\n",
      "}\n"
     ]
    }
   ],
   "source": [
    "output = generator.generate(context)"
   ]
  },
  {
   "cell_type": "code",
   "execution_count": 31,
   "metadata": {},
   "outputs": [
    {
     "data": {
      "text/plain": [
       "('Different emotions involve different bodily responses, leading to variation instead of uniformity.',\n",
       " 'What is the reason behind the lack of consistent bodily responses for different emotions?',\n",
       " 'Emotions do not have any impact on the autonomic nervous system.',\n",
       " 'Physiologists have not been able to understand bodily responses to emotions.',\n",
       " 'Research on emotions and bodily responses has not been conducted for long enough.')"
      ]
     },
     "execution_count": 31,
     "metadata": {},
     "output_type": "execute_result"
    }
   ],
   "source": [
    "output"
   ]
  },
  {
   "cell_type": "code",
   "execution_count": 9,
   "metadata": {},
   "outputs": [
    {
     "ename": "NameError",
     "evalue": "name 'answers' is not defined",
     "output_type": "error",
     "traceback": [
      "\u001b[1;31m---------------------------------------------------------------------------\u001b[0m",
      "\u001b[1;31mNameError\u001b[0m                                 Traceback (most recent call last)",
      "Cell \u001b[1;32mIn [9], line 1\u001b[0m\n\u001b[1;32m----> 1\u001b[0m answers\n",
      "\u001b[1;31mNameError\u001b[0m: name 'answers' is not defined"
     ]
    }
   ],
   "source": [
    "answers"
   ]
  },
  {
   "cell_type": "code",
   "execution_count": 1,
   "metadata": {},
   "outputs": [],
   "source": [
    "import pandas as pd\n",
    "import ast\n",
    "df = pd.read_csv('datasets/davinci/generated/text-davinci-003-gpt-3-50k-en.csv')"
   ]
  },
  {
   "cell_type": "code",
   "execution_count": 2,
   "metadata": {},
   "outputs": [
    {
     "data": {
      "text/plain": [
       "135"
      ]
     },
     "execution_count": 2,
     "metadata": {},
     "output_type": "execute_result"
    }
   ],
   "source": [
    "# count empty question\n",
    "df['question'].isnull().sum()"
   ]
  },
  {
   "cell_type": "code",
   "execution_count": 3,
   "metadata": {},
   "outputs": [],
   "source": [
    "# count if elements empty in choices list\n",
    "empty_choices = df[df['choices'].apply(lambda x: ast.literal_eval(x)[0] == '')]"
   ]
  },
  {
   "cell_type": "code",
   "execution_count": 4,
   "metadata": {},
   "outputs": [
    {
     "data": {
      "text/html": [
       "<div>\n",
       "<style scoped>\n",
       "    .dataframe tbody tr th:only-of-type {\n",
       "        vertical-align: middle;\n",
       "    }\n",
       "\n",
       "    .dataframe tbody tr th {\n",
       "        vertical-align: top;\n",
       "    }\n",
       "\n",
       "    .dataframe thead th {\n",
       "        text-align: right;\n",
       "    }\n",
       "</style>\n",
       "<table border=\"1\" class=\"dataframe\">\n",
       "  <thead>\n",
       "    <tr style=\"text-align: right;\">\n",
       "      <th></th>\n",
       "      <th>topic</th>\n",
       "      <th>context</th>\n",
       "      <th>question</th>\n",
       "      <th>answer</th>\n",
       "      <th>choices</th>\n",
       "      <th>model</th>\n",
       "      <th>dataset</th>\n",
       "    </tr>\n",
       "  </thead>\n",
       "  <tbody>\n",
       "    <tr>\n",
       "      <th>96</th>\n",
       "      <td>History of India</td>\n",
       "      <td>The Nationalist school has focused on Congress...</td>\n",
       "      <td>NaN</td>\n",
       "      <td>NaN</td>\n",
       "      <td>['', '', '']</td>\n",
       "      <td>text-davinci-003-gpt-3-50k-en</td>\n",
       "      <td>wikipedia-50k-en</td>\n",
       "    </tr>\n",
       "    <tr>\n",
       "      <th>116</th>\n",
       "      <td>Korean language</td>\n",
       "      <td>is aspirated and becomes an alveolo-palatal b...</td>\n",
       "      <td>NaN</td>\n",
       "      <td>NaN</td>\n",
       "      <td>['', '', '']</td>\n",
       "      <td>text-davinci-003-gpt-3-50k-en</td>\n",
       "      <td>wikipedia-50k-en</td>\n",
       "    </tr>\n",
       "    <tr>\n",
       "      <th>385</th>\n",
       "      <td>Rio de Janeiro</td>\n",
       "      <td>The most geographically close sister city to R...</td>\n",
       "      <td>NaN</td>\n",
       "      <td>NaN</td>\n",
       "      <td>['', '', '']</td>\n",
       "      <td>text-davinci-003-gpt-3-50k-en</td>\n",
       "      <td>wikipedia-50k-en</td>\n",
       "    </tr>\n",
       "    <tr>\n",
       "      <th>433</th>\n",
       "      <td>Saint Vincent and the Grenadines</td>\n",
       "      <td>Music popular in Saint Vincent and the Grenadi...</td>\n",
       "      <td>What is the occupation of Kevin Lyttle?</td>\n",
       "      <td>Cultural Ambassador</td>\n",
       "      <td>['', '', '']</td>\n",
       "      <td>text-davinci-003-gpt-3-50k-en</td>\n",
       "      <td>wikipedia-50k-en</td>\n",
       "    </tr>\n",
       "    <tr>\n",
       "      <th>576</th>\n",
       "      <td>Indigenous peoples of the Americas</td>\n",
       "      <td>Indigenous peoples of Brazil make up 0.4% of B...</td>\n",
       "      <td>Which country now has the largest number of un...</td>\n",
       "      <td>South America</td>\n",
       "      <td>['', '', '']</td>\n",
       "      <td>text-davinci-003-gpt-3-50k-en</td>\n",
       "      <td>wikipedia-50k-en</td>\n",
       "    </tr>\n",
       "    <tr>\n",
       "      <th>...</th>\n",
       "      <td>...</td>\n",
       "      <td>...</td>\n",
       "      <td>...</td>\n",
       "      <td>...</td>\n",
       "      <td>...</td>\n",
       "      <td>...</td>\n",
       "      <td>...</td>\n",
       "    </tr>\n",
       "    <tr>\n",
       "      <th>38530</th>\n",
       "      <td>Domestic violence</td>\n",
       "      <td>The Istanbul Convention states: \"\"violence aga...</td>\n",
       "      <td>NaN</td>\n",
       "      <td>NaN</td>\n",
       "      <td>['', '', '']</td>\n",
       "      <td>text-davinci-003-gpt-3-50k-en</td>\n",
       "      <td>wikipedia-50k-en</td>\n",
       "    </tr>\n",
       "    <tr>\n",
       "      <th>38613</th>\n",
       "      <td>Approximant consonant</td>\n",
       "      <td>Although many languages have central vowels , ...</td>\n",
       "      <td>NaN</td>\n",
       "      <td>NaN</td>\n",
       "      <td>['', '', '']</td>\n",
       "      <td>text-davinci-003-gpt-3-50k-en</td>\n",
       "      <td>wikipedia-50k-en</td>\n",
       "    </tr>\n",
       "    <tr>\n",
       "      <th>38619</th>\n",
       "      <td>The Rolling Stones</td>\n",
       "      <td>The September 1966 single \"Have You Seen Your ...</td>\n",
       "      <td>NaN</td>\n",
       "      <td>NaN</td>\n",
       "      <td>['', '', '']</td>\n",
       "      <td>text-davinci-003-gpt-3-50k-en</td>\n",
       "      <td>wikipedia-50k-en</td>\n",
       "    </tr>\n",
       "    <tr>\n",
       "      <th>38968</th>\n",
       "      <td>Burmese language</td>\n",
       "      <td>Although Burmese does not have grammatical gen...</td>\n",
       "      <td>NaN</td>\n",
       "      <td>NaN</td>\n",
       "      <td>['', '', '']</td>\n",
       "      <td>text-davinci-003-gpt-3-50k-en</td>\n",
       "      <td>wikipedia-50k-en</td>\n",
       "    </tr>\n",
       "    <tr>\n",
       "      <th>39211</th>\n",
       "      <td>Linear B</td>\n",
       "      <td>According to Evans' report to the British Scho...</td>\n",
       "      <td>NaN</td>\n",
       "      <td>NaN</td>\n",
       "      <td>['', '', '']</td>\n",
       "      <td>text-davinci-003-gpt-3-50k-en</td>\n",
       "      <td>wikipedia-50k-en</td>\n",
       "    </tr>\n",
       "  </tbody>\n",
       "</table>\n",
       "<p>188 rows × 7 columns</p>\n",
       "</div>"
      ],
      "text/plain": [
       "                                    topic  \\\n",
       "96                       History of India   \n",
       "116                       Korean language   \n",
       "385                        Rio de Janeiro   \n",
       "433      Saint Vincent and the Grenadines   \n",
       "576    Indigenous peoples of the Americas   \n",
       "...                                   ...   \n",
       "38530                   Domestic violence   \n",
       "38613               Approximant consonant   \n",
       "38619                  The Rolling Stones   \n",
       "38968                    Burmese language   \n",
       "39211                            Linear B   \n",
       "\n",
       "                                                 context  \\\n",
       "96     The Nationalist school has focused on Congress...   \n",
       "116     is aspirated and becomes an alveolo-palatal b...   \n",
       "385    The most geographically close sister city to R...   \n",
       "433    Music popular in Saint Vincent and the Grenadi...   \n",
       "576    Indigenous peoples of Brazil make up 0.4% of B...   \n",
       "...                                                  ...   \n",
       "38530  The Istanbul Convention states: \"\"violence aga...   \n",
       "38613  Although many languages have central vowels , ...   \n",
       "38619  The September 1966 single \"Have You Seen Your ...   \n",
       "38968  Although Burmese does not have grammatical gen...   \n",
       "39211  According to Evans' report to the British Scho...   \n",
       "\n",
       "                                                question               answer  \\\n",
       "96                                                   NaN                  NaN   \n",
       "116                                                  NaN                  NaN   \n",
       "385                                                  NaN                  NaN   \n",
       "433              What is the occupation of Kevin Lyttle?  Cultural Ambassador   \n",
       "576    Which country now has the largest number of un...        South America   \n",
       "...                                                  ...                  ...   \n",
       "38530                                                NaN                  NaN   \n",
       "38613                                                NaN                  NaN   \n",
       "38619                                                NaN                  NaN   \n",
       "38968                                                NaN                  NaN   \n",
       "39211                                                NaN                  NaN   \n",
       "\n",
       "            choices                          model           dataset  \n",
       "96     ['', '', '']  text-davinci-003-gpt-3-50k-en  wikipedia-50k-en  \n",
       "116    ['', '', '']  text-davinci-003-gpt-3-50k-en  wikipedia-50k-en  \n",
       "385    ['', '', '']  text-davinci-003-gpt-3-50k-en  wikipedia-50k-en  \n",
       "433    ['', '', '']  text-davinci-003-gpt-3-50k-en  wikipedia-50k-en  \n",
       "576    ['', '', '']  text-davinci-003-gpt-3-50k-en  wikipedia-50k-en  \n",
       "...             ...                            ...               ...  \n",
       "38530  ['', '', '']  text-davinci-003-gpt-3-50k-en  wikipedia-50k-en  \n",
       "38613  ['', '', '']  text-davinci-003-gpt-3-50k-en  wikipedia-50k-en  \n",
       "38619  ['', '', '']  text-davinci-003-gpt-3-50k-en  wikipedia-50k-en  \n",
       "38968  ['', '', '']  text-davinci-003-gpt-3-50k-en  wikipedia-50k-en  \n",
       "39211  ['', '', '']  text-davinci-003-gpt-3-50k-en  wikipedia-50k-en  \n",
       "\n",
       "[188 rows x 7 columns]"
      ]
     },
     "execution_count": 4,
     "metadata": {},
     "output_type": "execute_result"
    }
   ],
   "source": [
    "empty_choices"
   ]
  },
  {
   "cell_type": "code",
   "execution_count": 166,
   "metadata": {},
   "outputs": [
    {
     "name": "stdout",
     "output_type": "stream",
     "text": [
      "------------------\n",
      "Qumran Hebrew, attested in the Dead Sea Scrolls from ca. 200 BCE to 70 CE, is a continuation of Late Biblical Hebrew. Qumran Hebrew may be considered an intermediate stage between Biblical Hebrew and Mishnaic Hebrew, though Qumran Hebrew shows its own idiosyncratic dialectal features.\n",
      "------------------\n",
      "Tefko Saracevic (1992, p. 13) argued that library science and information science are separate fields:\n",
      "------------------\n",
      "In the year of 2002, Sarbanes–Oxley was named after sponsors U.S. Senator Paul Sarbanes (D-MD) and U.S. Representative Michael G. Oxley (R-OH). As a result of SOX, top management must individually certify the accuracy of financial information. In addition, penalties for fraudulent financial activity are much more severe. Also, SOX increased the oversight role of boards of directors and the independence of the outside auditors who review the accuracy of corporate financial statements.\n",
      "------------------\n",
      "The Welsh for \"I like Rhodri\" is ' (word for word, \"am I [the] liking [of] Rhodri\"), with \"Rhodri\" in a possessive relationship with \"hoffi\". With personal pronouns, the possessive form of the personal pronoun is used, as in \"I like \"him\"\": ', literally, \"am I \"his\" liking\" – \"I like \"you\"\" is \"\" (\"am I \"your\" liking\").\n",
      "------------------\n",
      "A more traditional Serbian nightlife experience, accompanied by traditional music known as \"Starogradska\" (roughly translated as \"Old Town Music\"), typical of northern Serbia's urban environments, is most prominent in Skadarlija, the city's old bohemian neighborhood where the poets and artists of Belgrade gathered in the 19th and early 20th centuries. Skadar Street (the centre of Skadarlija) and the surrounding neighbourhood are lined with some of Belgrade's best and oldest traditional restaurants (called kafanas in Serbian), which date back to that period. At one end of the neighbourhood stands Belgrade's oldest beer brewery, founded in the first half of the 19th century. One of the city's oldest kafanas is the Znak pitanja(\"?\").\n",
      "------------------\n",
      "The median income for a household in the city is $40,146, and the median income for a family is $50,271. Males have a reported median income of $35,279 versus $29,344 reported for females. The per capita income for the city is $22,643. 13.1% of the population and 8.5% of families are below the poverty line. Out of the total population, 15.7% of those under the age of 18 and 10.4% of those 65 and older are living below the poverty line. Figures delineating the income levels based on race are not available at this time. According to the Modern Language Association, in 2010 80.92% (539,885) percent of Multnomah County residents ages 5 and over spoke English as their primary language at home. 8.10% of the population spoke Spanish (54,036), with Vietnamese speakers making up 1.94%, and Russian 1.46%.\n",
      "------------------\n",
      "The double sequence does not occur in native English words, but is found in some words derived from foreign languages such as \"Aaron\" and \"aardvark\". However, occurs in many common digraphs, all with their own sound or sounds, particularly , , , , and .\n",
      "------------------\n",
      "During this period, an army formation of around 5,000 men (of both heavy and light infantry) was known as a legion. The manipular army was based upon social class, age and military experience. \"Maniples\" were units of 120 men each drawn from a single infantry class.\n",
      "------------------\n",
      "The Progressive Era was one of general prosperity after the Panic of 1893—a severe depression—ended in 1897. The Panic of 1907 was short and mostly affected financiers. However, Campbell (2005) stresses the weak points of the economy in 1907–1914, linking them to public demands for more Progressive interventions. The Panic of 1907 was followed by a small decline in real wages and increased unemployment, with both trends continuing until World War I. Campbell emphasizes the resulting stress on public finance and the impact on the Wilson administration's policies. The weakened economy and persistent federal deficits led to changes in fiscal policy, including the imposition of federal income taxes on businesses and individuals and the creation of the Federal Reserve System. Government agencies were also transformed in an effort to improve administrative efficiency.\n",
      "------------------\n",
      "He often receives mentions in novels on the lives of either of the Boleyn sisters – Mary Boleyn (d. 1543) and her sister, Queen Anne Boleyn (executed 1536), both of whom were for a time educated at his court. Mary had, according to several accounts, been Francis' one-time mistress and Anne had been a favourite of his sister: the novels \"The Lady in the Tower\", \"The Other Boleyn Girl,\" \"The Last Boleyn\", \"Dear Heart, How Like You This?\" and \"Mademoiselle Boleyn\" feature Francis in their story. He appears in Hilary Mantel's \"Wolf Hall\" about Henry VIII's minister Thomas Cromwell and is often referred to in its sequel, \"Bring Up the Bodies\".\n",
      "------------------\n",
      "\"Lex\" boasts some distinguished alumni who have gone on to make careers in business and government – including Nigel Lawson (former Conservative Chancellor of the Exchequer), Richard Lambert (CBI director and former member of the Bank of England's monetary policy committee), Martin Taylor (former chief executive of Barclays), John Makinson (chairman and chief executive of Penguin), John Gardiner (former chairman of Tesco), David Freud (former UBS banker and Labour adviser, now a Conservative peer), John Kingman (former head of UKFI and a banker at Rothschild's), George Graham (RBS banker), Andrew Balls (head of European portfolio management at PIMCO) and Jo Johnson (Conservative Member of Parliament for Orpington).\n",
      "------------------\n",
      "The Australian Aboriginal languages comprise up to twenty-seven language families and isolates, spoken by Aboriginal Australians of mainland Australia and a few nearby islands. The relationships between these languages are not clear at present. Despite this uncertainty the indigenous languages of Australia are collectively covered by the technical term \"Australian languages\". By convention, these do not include the Tasmanian languages or the eastern Torres Strait language Meriam Mer.\n",
      "------------------\n",
      "The term \"féodal\" was used in 17th-century French legal treatises (1614) and translated into English legal treatises as an adjective, such as \"feodal government\".\n",
      "------------------\n",
      "Distinguishing between science and non-science is referred to as the demarcation problem. For example, should psychoanalysis be considered science? How about so-called creation science, the inflationary multiverse hypothesis, or macroeconomics? Karl Popper called this the central question in the philosophy of science. However, no unified account of the problem has won acceptance among philosophers, and some regard the problem as unsolvable or uninteresting. Martin Gardner has argued for the use of a Potter Stewart standard (\"I know it when I see it\") for recognizing pseudoscience.\n",
      "------------------\n",
      "First, a three-dimensional stranded structure is assembled, with the amino acids glycine and proline as its principal components. This is not yet collagen but its precursor, procollagen. Procollagen is then modified by the addition of hydroxyl groups to the amino acids proline and lysine. This step is important for later glycosylation and the formation of the triple helix structure of collagen. The hydroxylase enzymes that perform these reactions require Vitamin C as a cofactor, and a deficiency in this vitamin results in impaired collagen synthesis and the resulting disease scurvy\n",
      "These hydroxylation reactions are catalyzed by two different enzymes: prolyl-4-hydroxylase and lysyl-hydroxylase. Vitamin C also serves with them in inducing these reactions. In this service, one molecule of vitamin C is destroyed for each H replaced by OH.\n",
      "------------------\n",
      "Adverbial participle (imiesłów przysłówkowy)\n",
      "------------------\n",
      "The Defense of Marriage Act (DOMA) was enacted in 1996. DOMA's Section 2 says that no state need recognize the legal validity of a same-sex relationship even if recognized as marriage by another state. It purports to relieve a state of its reciprocal obligation to honor the laws of other states as required by the Constitution's full faith and credit clause. Even before DOMA, however, states sometimes refused to recognize a marriage from another jurisdiction if it was counter to its \"strongly held public policies\". Most lawsuits that seek to require a state to recognize a marriage established in another jurisdiction argue on the basis of equal protection and due process, not the full faith and credit clause.\n",
      "------------------\n",
      "The Birmingham Corporation Water Department was set up in 1876 to supply water to Birmingham, up until 1974 when its responsibilities were transferred to Severn Trent Water. Most of Birmingham's water is supplied by the Elan aqueduct, opened in 1904; water is fed by gravity to Frankley Reservoir, Frankley, and Bartley Reservoir, Bartley Green, from reservoirs in the Elan Valley, Wales.\n",
      "------------------\n",
      "The City of London Corporation was not reformed by the Municipal Corporations Act 1835, because it had a more extensive electoral franchise than any other borough or city; in fact, it widened this further with its own equivalent legislation allowing one to become a freeman without being a liveryman. In 1801, the City had a population of about 130,000, but increasing development of the City as a central business district led to this falling to below 5,000 after the Second World War. It has risen slightly to around 9,000 since, largely due to the development of the Barbican Estate. In 2009, the business vote was about 24,000, greatly exceeding residential voters. As the City of London Corporation has not been affected by other municipal legislation over the period of time since then, its electoral practice has become increasingly anomalous. Uniquely for city or borough elections, its elections remain independent-dominated.\n",
      "------------------\n",
      "The Black Sea is a body of water between Eastern Europe and Western Asia, bounded by Bulgaria, Georgia, Romania, Russia, Turkey, and Ukraine. It is supplied by a number of major rivers, such as the Danube, Dnieper, Rioni, Southern Bug, and Dniester. The Black Sea has an area of (not including the Sea of Azov), a maximum depth of , and a volume of . It is constrained by the Pontic Mountains to the south and by the Caucasus Mountains to the east, and features a wide shelf to the northwest. The longest east-west extent is about .\n",
      "------------------\n",
      "\"The Telegraph\" has been the first newspaper to report on a number of notable news scoops, including the 2009 MP expenses scandal which led to a number of high-profile political resignations (for which it was named 2009 British Newspaper of the Year) and its 2016 undercover investigation on the England football manager Sam Allardyce.\n",
      "------------------\n",
      "Palo Alto has an ongoing community debate about the city providing fiber optic connectivity to all residences. A series of pilot programs have been proposed. One proposal called for the city to install dark fiber, which would be made live by a contractor.\n",
      "------------------\n",
      "Artificial selection demonstrates the diversity that can exist among organisms that share a relatively recent common ancestor. In artificial selection, humans selectively direct the breeding of one species at each generation, allowing only those organisms that exhibit desired characteristics to reproduce. These characteristics become increasingly well-developed in successive generations. Artificial selection was successful long before science discovered the genetic basis.\n",
      "------------------\n",
      "As of the census of 2010, there were 520,116 people, 229,762 households, and 112,455 families residing in the city. The population density was 2,500.1 inhabitants per square mile (965.3/km²). There were 209,609 housing units at an average density of 1,076.7 per square mile (415.7/km²). The racial makeup of the city was 69.7% White (down from 94.8% in 1970), 5.0% Black or African-American, 2.7% Native American, 2.9% Asian, 0.2% Pacific Islander, 16.9% from other races, and 3.8% from two or more races. Hispanic or Latino of any race were 41.6% of the population. Non-Hispanic Whites were 47.2% of the population in 2010, down from 72.8% in 1970.\n",
      "------------------\n",
      "Possible precursors for the evolution of protein synthesis include a mechanism to synthesize short peptide cofactors or form a mechanism for the duplication of RNA. It is likely that the ancestral ribosome was composed entirely of RNA, although some roles have since been taken over by proteins. Major remaining questions on this topic include identifying the selective force for the evolution of the ribosome and determining how the genetic code arose.\n",
      "------------------\n",
      "Vitamin C supplementation above the RDA has been used in trials to study a potential effect on preventing and slowing the progression of age-related cataract, however no significant effects were found from the research.\n",
      "------------------\n",
      "Vajrayana is also known as Tantric Buddhism and \"Tantrayāna\". Its texts were compiled starting with 7th century and Tibetan translations were completed in 8th century CE. These tantra yoga texts were the main source of Buddhist knowledge that was imported into Tibet. They were later translated into Chinese and other Asian languages, helping spread ideas of Tantric Buddhism. The Buddhist text Hevajra Tantra and \"Caryāgiti\" introduced hierarchies of chakras. Yoga is a significant practice in Tantric Buddhism.\n",
      "------------------\n",
      "In 2002, Telekom Brunei was incorporated become Telekom Brunei Berhad (TelBru). In 2008, the internet were improved with speed ranges from 1Mbit/s to maximum speed of 5Mbit/s. Price starting from B$65 to B$105 per month respectively.\n",
      "Currently as of 2012, Telekom Brunei is deploying its FTTH network capable of 100Mbit/s through a contract awarded to Huawei. It aims to provide FTTH coverage to around 85% of the population by 2017.\n",
      "------------------\n",
      "As of 2015, there are 53 states party to the treaty, 29 of which, including all 12 original signatories to the treaty, have consultative (voting) status. Consultative members include the seven nations that claim portions of Antarctica as national territory. The 46 non-claimant nations either do not recognize the claims of others, or have not stated their positions.\n",
      "Note: The table can be sorted alphabetically or chronologically using the icon.\n",
      "------------------\n",
      "For the historian of the anarchist movement Ronald Creagh, the hippie movement could be considered as the last spectacular resurgence of utopian socialism. For Creagh, a characteristic of this is the desire for the transformation of society not through political revolution, or through reformist action pushed forward by the state, but through the creation of a counter-society of a socialist character in the midst of the current system, which will be made up of ideal communities of a more or less libertarian social form.\n",
      "------------------\n",
      "Mass storage devices store programs and data even when the power is off; they do require power to perform read and write functions during usage. Although flash memory has dropped in cost, the prevailing form of mass storage in personal computers is still the hard disk drive. If the mass storage controller provides additional ports for expandability, a PC may also be upgraded by the addition of extra hard disk or optical disc drives. For example, BD-ROMs, DVD-RWs, and various optical disc recorders may all be added by the user to certain PCs. Standard internal storage device connection interfaces are PATA, Serial ATA and SCSI. Solid state drives (SSDs) are a much faster replacement for traditional mechanical hard disk drives, but are also more expensive in terms of cost per gigabyte.\n"
     ]
    }
   ],
   "source": [
    "# print context of the dataframe\n",
    "for i in empty_choices['context']:\n",
    "    print('------------------')\n",
    "    print(i)"
   ]
  },
  {
   "cell_type": "code",
   "execution_count": null,
   "metadata": {},
   "outputs": [],
   "source": []
  }
 ],
 "metadata": {
  "kernelspec": {
   "display_name": "dl",
   "language": "python",
   "name": "python3"
  },
  "language_info": {
   "codemirror_mode": {
    "name": "ipython",
    "version": 3
   },
   "file_extension": ".py",
   "mimetype": "text/x-python",
   "name": "python",
   "nbconvert_exporter": "python",
   "pygments_lexer": "ipython3",
   "version": "3.9.13"
  },
  "orig_nbformat": 4,
  "vscode": {
   "interpreter": {
    "hash": "5fceee184c6517569c17b01ab85c96ed0a3e21c197e837da8a26bf896b5cefc3"
   }
  }
 },
 "nbformat": 4,
 "nbformat_minor": 2
}
