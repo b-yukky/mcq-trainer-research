{
 "cells": [
  {
   "cell_type": "code",
   "execution_count": 88,
   "metadata": {},
   "outputs": [],
   "source": [
    "import openai\n",
    "from dotenv import load_dotenv\n",
    "import os\n",
    "import re\n",
    "import random\n",
    "\n",
    "load_dotenv()\n",
    "\n",
    "class OpenAIGenerator():\n",
    "    \n",
    "    def __init__(self) -> None:\n",
    "        ''' init '''\n",
    "        self.API_KEY = os.environ.get(\"OPENAI_API_KEY\")\n",
    "        openai.api_key = self.API_KEY\n",
    "        self.models = openai.Model.list()\n",
    "        self.engines = openai.Engine.list()\n",
    "    \n",
    "    def generate_random_answer_option(self):\n",
    "        potential_answers = ['A', 'B', 'C', 'D']\n",
    "        return random.choice(potential_answers)\n",
    "    \n",
    "    def format_text_regex(self, text, ans):\n",
    "        \n",
    "        lines = text.strip().split(\"\\n\")\n",
    "        # question_pattern = re.compile(r\"\\s*(?P<question>.+\\?)\")\n",
    "        question_pattern = re.compile(r\"\\s*(?P<question>.+\\?)|(Q:|Question:)\\s*.+\")\n",
    "        answer_pattern = re.compile(r\"({}:|{}\\.|{}\\))\\s*(?P<answer>.+)?\".format(ans, ans, ans))\n",
    "        choice_pattern = re.compile(r\"[a-zA-Z]+(:|\\.|\\))\\s*(?P<choice>.+)\")\n",
    "        distractors = []\n",
    "\n",
    "        for line in lines:\n",
    "            question_match = question_pattern.search(line)\n",
    "            answer_match = answer_pattern.search(line)\n",
    "            choice_match = choice_pattern.search(line)\n",
    "            if question_match:\n",
    "                question = question_match.group('question').replace('\\n', '')\n",
    "            elif answer_match:\n",
    "                answer = answer_match.group('answer')\n",
    "            elif choice_match:\n",
    "                choice = choice_match.group('choice')\n",
    "                distractors.append(choice)\n",
    "        \n",
    "        return question, answer, distractors\n",
    "\n",
    "    def select_language(self, lang):\n",
    "        \n",
    "        if lang == 'fr':\n",
    "            return 'in french '\n",
    "        else:\n",
    "            return ''\n",
    "    \n",
    "    def generate(self, context: str, desired_count: int = 1, lang='en') -> tuple:\n",
    "        \n",
    "        questions_list = []\n",
    "        answers_list = []\n",
    "        distractors_list = []\n",
    "        \n",
    "        answer_option = self.generate_random_answer_option()\n",
    "        language = self.select_language(lang)\n",
    "        \n",
    "        response = openai.Completion.create(\n",
    "            engine=\"text-davinci-003\",\n",
    "            prompt=(f'''generate {desired_count} question with 4 options {language}on the following text: \"{context}\". the true answer is option {answer_option}'''),\n",
    "            max_tokens=256,\n",
    "            n = 1,\n",
    "            stop = None,\n",
    "            temperature = 0.2,\n",
    "            top_p = 1,\n",
    "        )\n",
    "        \n",
    "        print(f'''generate {desired_count} question with 4 options on the following text: \"{context}\". the true answer is option {answer_option}''')\n",
    "        \n",
    "        output = response[\"choices\"]\n",
    "\n",
    "        for qad_pair in output:\n",
    "            print(qad_pair)\n",
    "            try:\n",
    "                question, answer, distractors = self.format_text_regex(qad_pair['text'], answer_option)\n",
    "            except Exception:\n",
    "                break\n",
    "            questions_list.append(question)\n",
    "            answers_list.append(answer)\n",
    "            distractors_list.append(distractors)\n",
    "\n",
    "        if len(answers_list) < 1:\n",
    "            answers_list.append('')\n",
    "            \n",
    "        if len(questions_list) < 1:\n",
    "            questions_list.append('')\n",
    "            \n",
    "        if len(distractors_list) < 1:\n",
    "            questions_list.append([])\n",
    "            \n",
    "        while len(distractors_list[0]) < 3:\n",
    "            distractors_list[0].append('')\n",
    "        \n",
    "        return answers_list[0], questions_list[0], distractors_list[0][0], distractors_list[0][1], distractors_list[0][2]\n",
    "    \n"
   ]
  },
  {
   "cell_type": "code",
   "execution_count": 89,
   "metadata": {},
   "outputs": [],
   "source": [
    "generator = OpenAIGenerator()"
   ]
  },
  {
   "cell_type": "code",
   "execution_count": 90,
   "metadata": {},
   "outputs": [],
   "source": [
    "context = '''Program execution might be likened to reading a book. While a person will normally read each word and line in sequence, they may at times jump back to an earlier place in the text or skip sections that are not of interest. Similarly, a computer may sometimes go back and repeat the instructions in some section of the program over and over again until some internal condition is met. This is called the flow of control within the program and it is what allows the computer to perform tasks repeatedly without human intervention.'''"
   ]
  },
  {
   "cell_type": "code",
   "execution_count": 91,
   "metadata": {},
   "outputs": [
    {
     "name": "stdout",
     "output_type": "stream",
     "text": [
      "generate 1 question with 4 options on the following text: \"Program execution might be likened to reading a book. While a person will normally read each word and line in sequence, they may at times jump back to an earlier place in the text or skip sections that are not of interest. Similarly, a computer may sometimes go back and repeat the instructions in some section of the program over and over again until some internal condition is met. This is called the flow of control within the program and it is what allows the computer to perform tasks repeatedly without human intervention.\". the true answer is option A\n",
      "{\n",
      "  \"finish_reason\": \"stop\",\n",
      "  \"index\": 0,\n",
      "  \"logprobs\": null,\n",
      "  \"text\": \"\\n\\nQ: What is the flow of control within a program?\\nA. The instructions that are repeated until an internal condition is met\\nB. The sequence of instructions that are read by the computer\\nC. The ability of a computer to perform tasks without human intervention\\nD. The ability of a person to jump back to an earlier place in the text\"\n",
      "}\n"
     ]
    }
   ],
   "source": [
    "output = generator.generate(context)"
   ]
  },
  {
   "cell_type": "code",
   "execution_count": 92,
   "metadata": {},
   "outputs": [
    {
     "data": {
      "text/plain": [
       "('The instructions that are repeated until an internal condition is met',\n",
       " 'Q: What is the flow of control within a program?',\n",
       " 'The sequence of instructions that are read by the computer',\n",
       " 'The ability of a computer to perform tasks without human intervention',\n",
       " 'The ability of a person to jump back to an earlier place in the text')"
      ]
     },
     "execution_count": 92,
     "metadata": {},
     "output_type": "execute_result"
    }
   ],
   "source": [
    "output"
   ]
  },
  {
   "cell_type": "code",
   "execution_count": 62,
   "metadata": {},
   "outputs": [
    {
     "data": {
      "text/plain": [
       "[\"Setting the map's agenda and selecting traits of the object to be mapped\"]"
      ]
     },
     "execution_count": 62,
     "metadata": {},
     "output_type": "execute_result"
    }
   ],
   "source": [
    "answers"
   ]
  },
  {
   "cell_type": "code",
   "execution_count": 23,
   "metadata": {},
   "outputs": [
    {
     "data": {
      "text/plain": [
       "[['Representing the terrain of the mapped object on flat media',\n",
       "  'Eliminating characteristics of the mapped object that are not relevant',\n",
       "  'Reducing the complexity of the characteristics that will be mapped',\n",
       "  'Orchestrating the elements of the map to best convey its message']]"
      ]
     },
     "execution_count": 23,
     "metadata": {},
     "output_type": "execute_result"
    }
   ],
   "source": [
    "distractors"
   ]
  },
  {
   "cell_type": "code",
   "execution_count": null,
   "metadata": {},
   "outputs": [],
   "source": []
  }
 ],
 "metadata": {
  "kernelspec": {
   "display_name": "dl",
   "language": "python",
   "name": "python3"
  },
  "language_info": {
   "codemirror_mode": {
    "name": "ipython",
    "version": 3
   },
   "file_extension": ".py",
   "mimetype": "text/x-python",
   "name": "python",
   "nbconvert_exporter": "python",
   "pygments_lexer": "ipython3",
   "version": "3.9.13"
  },
  "orig_nbformat": 4,
  "vscode": {
   "interpreter": {
    "hash": "5fceee184c6517569c17b01ab85c96ed0a3e21c197e837da8a26bf896b5cefc3"
   }
  }
 },
 "nbformat": 4,
 "nbformat_minor": 2
}
