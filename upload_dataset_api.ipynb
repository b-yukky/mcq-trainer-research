{
 "cells": [
  {
   "cell_type": "code",
   "execution_count": 141,
   "metadata": {},
   "outputs": [],
   "source": [
    "import requests\n",
    "import pandas as pd\n",
    "import ast"
   ]
  },
  {
   "cell_type": "code",
   "execution_count": 182,
   "metadata": {},
   "outputs": [],
   "source": [
    "#read csv file\n",
    "df = pd.read_csv('datasets/experiment/babbage-multiqad400k-gpt-3.csv')"
   ]
  },
  {
   "cell_type": "code",
   "execution_count": 187,
   "metadata": {},
   "outputs": [],
   "source": [
    "# dataframe to json as list of dictionaries, and \"choices\" as a list of strings\n",
    "data = df.to_dict(orient='records')\n",
    "for row in data:\n",
    "    row['choices'] = [choice for choice in ast.literal_eval(row['choices']) if choice != '']\n",
    "    row['question'] = row['question'].strip().replace('Q: ', '').replace('Question: ', '').replace('Q.', '')\n",
    "    row['answer'] = row['answer'].strip()\n"
   ]
  },
  {
   "cell_type": "code",
   "execution_count": 188,
   "metadata": {},
   "outputs": [
    {
     "data": {
      "text/plain": [
       "{'topic': 'Economy',\n",
       " 'context': 'Every firm has some strategies to work which usually make the progress towards achieving an optimum capital stock and not only moving smoothly from one type and size of plant and machinery to the other. This means that every firm aims to increase its profit to an optimum level rather than just moving and improving its machinery and buildings.',\n",
       " 'question': 'What is the main goal of a firm?',\n",
       " 'answer': 'To increase its profit to an optimum level rather than just moving and improving its machinery and buildings.',\n",
       " 'choices': ['To improve its machinery but not building structures, or even moving it all over again in order for it to work properly at any time.\"',\n",
       "  'To move smoothly from one type and size of plant and machinery to the other'],\n",
       " 'model': 'ft-babbage-multiqad-400k-gpt-3',\n",
       " 'dataset': 'wikipedia-10T'}"
      ]
     },
     "execution_count": 188,
     "metadata": {},
     "output_type": "execute_result"
    }
   ],
   "source": [
    "data[12]"
   ]
  },
  {
   "cell_type": "code",
   "execution_count": 189,
   "metadata": {},
   "outputs": [],
   "source": [
    "# send post request to API\n",
    "r = requests.post('http://localhost:8000/aqg/mcq/add/', json=data)"
   ]
  },
  {
   "cell_type": "code",
   "execution_count": 162,
   "metadata": {},
   "outputs": [
    {
     "data": {
      "text/plain": [
       "['Rectangular']"
      ]
     },
     "execution_count": 162,
     "metadata": {},
     "output_type": "execute_result"
    }
   ],
   "source": []
  },
  {
   "cell_type": "code",
   "execution_count": 1,
   "metadata": {},
   "outputs": [
    {
     "name": "stderr",
     "output_type": "stream",
     "text": [
      "c:\\Users\\LIMU\\anaconda3\\envs\\dl\\lib\\site-packages\\tqdm\\auto.py:22: TqdmWarning: IProgress not found. Please update jupyter and ipywidgets. See https://ipywidgets.readthedocs.io/en/stable/user_install.html\n",
      "  from .autonotebook import tqdm as notebook_tqdm\n",
      "<frozen importlib._bootstrap>:228: RuntimeWarning: scipy._lib.messagestream.MessageStream size changed, may indicate binary incompatibility. Expected 56 from C header, got 64 from PyObject\n"
     ]
    }
   ],
   "source": [
    "import torch\n",
    "from  models.MCQGenerator import MCQGenerator\n"
   ]
  },
  {
   "cell_type": "code",
   "execution_count": 2,
   "metadata": {},
   "outputs": [],
   "source": [
    "CHECKPOINT_PATH ='checkpoints\\\\google\\\\multiqad-400k\\\\large\\\\best-checkpoint-v3.ckpt'\n",
    "BASE_MODEL = 'google/flan-t5-large'"
   ]
  },
  {
   "cell_type": "code",
   "execution_count": 47,
   "metadata": {},
   "outputs": [
    {
     "name": "stdout",
     "output_type": "stream",
     "text": [
      "model initialized!\n"
     ]
    }
   ],
   "source": [
    "model = MCQGenerator(BASE_MODEL, CHECKPOINT_PATH)"
   ]
  },
  {
   "cell_type": "code",
   "execution_count": 138,
   "metadata": {},
   "outputs": [],
   "source": [
    "context = \"A solar balloon is a black balloon that is filled with ordinary air. As sunlight shines on the balloon, the air inside is heated and expands causing an upward buoyancy force, much like an artificially heated hot air balloon. Some solar balloons are large enough for human flight, but usage is generally limited to the toy market as the surface-area to payload-weight ratio is relatively high.\""
   ]
  },
  {
   "cell_type": "code",
   "execution_count": 139,
   "metadata": {},
   "outputs": [
    {
     "name": "stdout",
     "output_type": "stream",
     "text": [
      "preds {'A solar balloon is a black balloon that is filled with ordinary air. <sep> What is a solar balloon? <sep> A solar balloon is a hot air balloon <sep> A solar balloon is a black balloon filled with sunlight and expands in the sky, much like an artificially heated hot air balloon.\" <sep> A solar balloon is mainly used for human flight but not'}\n"
     ]
    }
   ],
   "source": [
    "output = model.generate(context)"
   ]
  },
  {
   "cell_type": "code",
   "execution_count": 140,
   "metadata": {},
   "outputs": [
    {
     "data": {
      "text/plain": [
       "('A solar balloon is a black balloon that is filled with ordinary air.',\n",
       " 'What is a solar balloon?',\n",
       " 'A solar balloon is a hot air balloon',\n",
       " 'A solar balloon is a black balloon filled with sunlight and expands in the sky, much like an artificially heated hot air balloon.\"',\n",
       " 'A solar balloon is mainly used for human flight but not')"
      ]
     },
     "execution_count": 140,
     "metadata": {},
     "output_type": "execute_result"
    }
   ],
   "source": [
    "output"
   ]
  },
  {
   "cell_type": "code",
   "execution_count": null,
   "metadata": {},
   "outputs": [],
   "source": []
  }
 ],
 "metadata": {
  "kernelspec": {
   "display_name": "dl",
   "language": "python",
   "name": "python3"
  },
  "language_info": {
   "codemirror_mode": {
    "name": "ipython",
    "version": 3
   },
   "file_extension": ".py",
   "mimetype": "text/x-python",
   "name": "python",
   "nbconvert_exporter": "python",
   "pygments_lexer": "ipython3",
   "version": "3.9.13"
  },
  "orig_nbformat": 4,
  "vscode": {
   "interpreter": {
    "hash": "5fceee184c6517569c17b01ab85c96ed0a3e21c197e837da8a26bf896b5cefc3"
   }
  }
 },
 "nbformat": 4,
 "nbformat_minor": 2
}
