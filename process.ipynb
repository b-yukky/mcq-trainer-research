{
 "cells": [
  {
   "cell_type": "code",
   "execution_count": null,
   "metadata": {},
   "outputs": [],
   "source": [
    "import pandas as pd\n",
    "\n"
   ]
  },
  {
   "cell_type": "code",
   "execution_count": null,
   "metadata": {},
   "outputs": [],
   "source": [
    "def preprocess_dataset():\n",
    "    \n",
    "    squad_train_df = pd.read_csv('datasets/squad/train_df.csv')\n",
    "\n",
    "    context_name = 'context_para'\n",
    "    drop_context = 'context_sent' \n",
    "\n",
    "    df = squad_train_df.copy()\n",
    "    df = df.dropna()\n",
    "    df.rename(columns = {context_name: 'context'}, inplace=True)\n",
    "    df.drop(columns=[drop_context, 'answer_start', 'answer_end'], inplace=True)\n",
    "\n",
    "    df.to_csv('train_squad.csv')"
   ]
  },
  {
   "cell_type": "code",
   "execution_count": null,
   "metadata": {},
   "outputs": [],
   "source": [
    "\n",
    "preprocess_dataset()"
   ]
  }
 ],
 "metadata": {
  "kernelspec": {
   "display_name": "dl",
   "language": "python",
   "name": "python3"
  },
  "language_info": {
   "name": "python",
   "version": "3.9.13 (main, Oct 13 2022, 21:23:06) [MSC v.1916 64 bit (AMD64)]"
  },
  "orig_nbformat": 4,
  "vscode": {
   "interpreter": {
    "hash": "5fceee184c6517569c17b01ab85c96ed0a3e21c197e837da8a26bf896b5cefc3"
   }
  }
 },
 "nbformat": 4,
 "nbformat_minor": 2
}
