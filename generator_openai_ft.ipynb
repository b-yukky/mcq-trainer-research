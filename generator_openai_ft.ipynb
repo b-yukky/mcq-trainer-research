{
 "cells": [
  {
   "cell_type": "code",
   "execution_count": 248,
   "metadata": {},
   "outputs": [],
   "source": [
    "import openai\n",
    "from dotenv import load_dotenv\n",
    "import os\n",
    "import re\n",
    "import random\n",
    "import backoff\n",
    "\n",
    "load_dotenv()\n",
    "\n",
    "class OpenAIGenerator():\n",
    "    \n",
    "    def __init__(self) -> None:\n",
    "        ''' init '''\n",
    "        self.API_KEY = os.environ.get(\"OPENAI_API_KEY\")\n",
    "        openai.api_key = self.API_KEY\n",
    "        self.models = openai.Model.list()\n",
    "        self.engines = openai.Engine.list()\n",
    "    \n",
    "    \n",
    "    def format_text_regex(self, text):\n",
    "        \n",
    "        lines = text.strip().split(\"\\n\")\n",
    "        # question_pattern = re.compile(r\"\\s*(?P<question>.+\\?)\")\n",
    "        question_pattern = re.compile(r\"\\s*(?P<question>.+\\?)\")\n",
    "        answer_pattern = re.compile(r\"answer:\\s*(?P<answer>.+)\")\n",
    "        choice_pattern = re.compile(r\"incorrect[0-9]:\\s*(?P<choice>.+)\")\n",
    "        distractors = []\n",
    "\n",
    "        for line in lines:\n",
    "            question_match = question_pattern.search(line)\n",
    "            answer_match = answer_pattern.search(line)\n",
    "            choice_match = choice_pattern.search(line)\n",
    "            if question_match:\n",
    "                question = question_match.group('question').replace('\\n', '')\n",
    "            elif answer_match:\n",
    "                answer = answer_match.group('answer')\n",
    "            elif choice_match:\n",
    "                choice = choice_match.group('choice')\n",
    "                distractors.append(choice)\n",
    "        \n",
    "        return question, answer, distractors\n",
    "    \n",
    "    def generate(self, context: str, desired_count: int = 1, lang='en') -> tuple:\n",
    "        \n",
    "        questions_list = []\n",
    "        answers_list = []\n",
    "        distractors_list = []\n",
    "                \n",
    "        @backoff.on_exception(backoff.expo, openai.error.RateLimitError)\n",
    "        def generate_question_with_backoff(**kwargs):\n",
    "            return openai.Completion.create(\n",
    "            model=\"babbage:ft-personal-2023-02-09-12-44-15\",\n",
    "            prompt=(f'''{context}'''),\n",
    "            max_tokens=256,\n",
    "            n = 1,\n",
    "            best_of = 1,\n",
    "            stop = \" [END]\",\n",
    "            temperature = 0.2,\n",
    "            top_p = 1,\n",
    "            presence_penalty = 2,\n",
    "            frequency_penalty = 1,\n",
    "        )\n",
    "        \n",
    "        response = generate_question_with_backoff()\n",
    "                \n",
    "        output = response[\"choices\"]\n",
    "\n",
    "        for qad_pair in output:\n",
    "            print(qad_pair)\n",
    "            try:\n",
    "                question, answer, distractors = self.format_text_regex(qad_pair['text'])\n",
    "            except Exception:\n",
    "                break\n",
    "            questions_list.append(question)\n",
    "            answers_list.append(answer)\n",
    "            distractors_list.append(distractors)\n",
    "\n",
    "        if len(answers_list) < 1:\n",
    "            answers_list.append('')\n",
    "            \n",
    "        if len(questions_list) < 1:\n",
    "            questions_list.append('')\n",
    "            \n",
    "        if len(distractors_list) < 1:\n",
    "            distractors_list.append([])\n",
    "                    \n",
    "        while len(distractors_list[0]) < 3:\n",
    "            distractors_list[0].append('')\n",
    "        \n",
    "        return answers_list[0], questions_list[0], distractors_list[0][0], distractors_list[0][1], distractors_list[0][2]\n",
    "    \n"
   ]
  },
  {
   "cell_type": "code",
   "execution_count": 249,
   "metadata": {},
   "outputs": [],
   "source": [
    "generator = OpenAIGenerator()"
   ]
  },
  {
   "cell_type": "code",
   "execution_count": 250,
   "metadata": {},
   "outputs": [],
   "source": [
    "context = '''The gross state domestic product (GSDP) of Delhi at current prices for the year 2011-12 has been estimated at Rs 3.13 lakh crore, which is an increase of 18.7 per cent over the previous fiscal.'''"
   ]
  },
  {
   "cell_type": "code",
   "execution_count": 251,
   "metadata": {},
   "outputs": [
    {
     "name": "stdout",
     "output_type": "stream",
     "text": [
      "{\n",
      "  \"finish_reason\": \"stop\",\n",
      "  \"index\": 0,\n",
      "  \"logprobs\": null,\n",
      "  \"text\": \"\\n\\n###\\n\\n What is the gsdp of delhi?\\n\\nanswer: Rs 3.13 lakh crore, which is an increase of 18.7 per cent over the previous fiscal.\\nincorrect1: Rs 3.13 lakh crore, which is an increase in GDP for 2011-12 and 2012-2013 at current prices.\\\"\\nincorrect2: The gross state domestic product (GSDP) has been estimated at Rs 2 billion each year since 2010 to 2013]\"\n",
      "}\n"
     ]
    }
   ],
   "source": [
    "output = generator.generate(context)"
   ]
  },
  {
   "cell_type": "code",
   "execution_count": 252,
   "metadata": {},
   "outputs": [
    {
     "data": {
      "text/plain": [
       "('Rs 3.13 lakh crore, which is an increase of 18.7 per cent over the previous fiscal.',\n",
       " 'What is the gsdp of delhi?',\n",
       " 'Rs 3.13 lakh crore, which is an increase in GDP for 2011-12 and 2012-2013 at current prices.\"',\n",
       " 'The gross state domestic product (GSDP) has been estimated at Rs 2 billion each year since 2010 to 2013]',\n",
       " '')"
      ]
     },
     "execution_count": 252,
     "metadata": {},
     "output_type": "execute_result"
    }
   ],
   "source": [
    "output"
   ]
  },
  {
   "cell_type": "code",
   "execution_count": 151,
   "metadata": {},
   "outputs": [
    {
     "ename": "NameError",
     "evalue": "name 'answers' is not defined",
     "output_type": "error",
     "traceback": [
      "\u001b[1;31m---------------------------------------------------------------------------\u001b[0m",
      "\u001b[1;31mNameError\u001b[0m                                 Traceback (most recent call last)",
      "Cell \u001b[1;32mIn [151], line 1\u001b[0m\n\u001b[1;32m----> 1\u001b[0m answers\n",
      "\u001b[1;31mNameError\u001b[0m: name 'answers' is not defined"
     ]
    }
   ],
   "source": [
    "answers"
   ]
  },
  {
   "cell_type": "code",
   "execution_count": 2,
   "metadata": {},
   "outputs": [
    {
     "name": "stderr",
     "output_type": "stream",
     "text": [
      "c:\\Users\\LIMU\\anaconda3\\envs\\dl\\lib\\site-packages\\tqdm\\auto.py:22: TqdmWarning: IProgress not found. Please update jupyter and ipywidgets. See https://ipywidgets.readthedocs.io/en/stable/user_install.html\n",
      "  from .autonotebook import tqdm as notebook_tqdm\n"
     ]
    }
   ],
   "source": [
    "import pandas as pd\n",
    "from transformers import (\n",
    "    T5TokenizerFast as T5Tokenizer\n",
    "    )\n",
    "from tqdm import tqdm"
   ]
  },
  {
   "cell_type": "code",
   "execution_count": 262,
   "metadata": {},
   "outputs": [],
   "source": [
    "\n",
    "model_name = 'google/flan-t5-base'\n",
    "tokenizer = T5Tokenizer.from_pretrained(model_name)"
   ]
  },
  {
   "cell_type": "code",
   "execution_count": 263,
   "metadata": {},
   "outputs": [],
   "source": [
    "dataset_path = 'datasets/davinci/wikipedia-50k-en.csv'\n",
    "df = pd.read_csv(dataset_path).drop_duplicates(subset=['context'])"
   ]
  },
  {
   "cell_type": "code",
   "execution_count": 264,
   "metadata": {},
   "outputs": [
    {
     "name": "stderr",
     "output_type": "stream",
     "text": [
      "100%|██████████| 46740/46740 [00:14<00:00, 3302.97it/s]\n"
     ]
    }
   ],
   "source": [
    "\n",
    "total_tokens = 0.\n",
    "\n",
    "\n",
    "for i in tqdm(range(len(df))):\n",
    "    total_tokens += len(tokenizer(df.iloc[i]['context'])['input_ids'])\n"
   ]
  },
  {
   "cell_type": "code",
   "execution_count": 3,
   "metadata": {},
   "outputs": [],
   "source": [
    "dataset_path = 'datasets/davinci/generated/text-davinci-003-gpt-3-20k-sum-en.csv'\n",
    "df = pd.read_csv(dataset_path).drop_duplicates(subset=['context'])"
   ]
  },
  {
   "cell_type": "code",
   "execution_count": 4,
   "metadata": {},
   "outputs": [
    {
     "data": {
      "text/html": [
       "<div>\n",
       "<style scoped>\n",
       "    .dataframe tbody tr th:only-of-type {\n",
       "        vertical-align: middle;\n",
       "    }\n",
       "\n",
       "    .dataframe tbody tr th {\n",
       "        vertical-align: top;\n",
       "    }\n",
       "\n",
       "    .dataframe thead th {\n",
       "        text-align: right;\n",
       "    }\n",
       "</style>\n",
       "<table border=\"1\" class=\"dataframe\">\n",
       "  <thead>\n",
       "    <tr style=\"text-align: right;\">\n",
       "      <th></th>\n",
       "      <th>topic</th>\n",
       "      <th>context</th>\n",
       "      <th>question</th>\n",
       "      <th>answer</th>\n",
       "      <th>choices</th>\n",
       "      <th>model</th>\n",
       "      <th>dataset</th>\n",
       "    </tr>\n",
       "  </thead>\n",
       "  <tbody>\n",
       "    <tr>\n",
       "      <th>0</th>\n",
       "      <td>Jacob</td>\n",
       "      <td>Twenty years later, throughout the Middle East...</td>\n",
       "      <td>Why did Benjamin stay behind when the other 10...</td>\n",
       "      <td>To keep him safe</td>\n",
       "      <td>['To stay with his father', 'To remain in the ...</td>\n",
       "      <td>text-davinci-003-gpt-3-20k-sum-en</td>\n",
       "      <td>wikipedia-20k-en</td>\n",
       "    </tr>\n",
       "    <tr>\n",
       "      <th>1</th>\n",
       "      <td>Geodesic</td>\n",
       "      <td>In an appropriate sense, zeros of the second v...</td>\n",
       "      <td>What are Jacobi fields regarded as?</td>\n",
       "      <td>Variations through geodesics</td>\n",
       "      <td>['Solutions of the second variation', 'Zeros o...</td>\n",
       "      <td>text-davinci-003-gpt-3-20k-sum-en</td>\n",
       "      <td>wikipedia-20k-en</td>\n",
       "    </tr>\n",
       "    <tr>\n",
       "      <th>2</th>\n",
       "      <td>Charles Sanders Peirce</td>\n",
       "      <td>\\nPeirce wrote drafts for an introductory text...</td>\n",
       "      <td>What is the title of the book edited by mathem...</td>\n",
       "      <td>The New Elements of Mathematics by Charles S. ...</td>\n",
       "      <td>['The New Elements of Mathematics', 'Charles S...</td>\n",
       "      <td>text-davinci-003-gpt-3-20k-sum-en</td>\n",
       "      <td>wikipedia-20k-en</td>\n",
       "    </tr>\n",
       "    <tr>\n",
       "      <th>3</th>\n",
       "      <td>Advertising</td>\n",
       "      <td>Advertising may be categorized in a variety of...</td>\n",
       "      <td>What is the most common form of print advertis...</td>\n",
       "      <td>Display Advertising</td>\n",
       "      <td>['Brand Advertising', 'Local Advertising', 'Di...</td>\n",
       "      <td>text-davinci-003-gpt-3-20k-sum-en</td>\n",
       "      <td>wikipedia-20k-en</td>\n",
       "    </tr>\n",
       "    <tr>\n",
       "      <th>4</th>\n",
       "      <td>Basque language</td>\n",
       "      <td>Part of the Romani community in the Basque Cou...</td>\n",
       "      <td>What language is spoken by the Romani communit...</td>\n",
       "      <td>Erromintxela</td>\n",
       "      <td>['German', 'French', 'Spanish']</td>\n",
       "      <td>text-davinci-003-gpt-3-20k-sum-en</td>\n",
       "      <td>wikipedia-20k-en</td>\n",
       "    </tr>\n",
       "    <tr>\n",
       "      <th>...</th>\n",
       "      <td>...</td>\n",
       "      <td>...</td>\n",
       "      <td>...</td>\n",
       "      <td>...</td>\n",
       "      <td>...</td>\n",
       "      <td>...</td>\n",
       "      <td>...</td>\n",
       "    </tr>\n",
       "    <tr>\n",
       "      <th>4707</th>\n",
       "      <td>Muhammad</td>\n",
       "      <td>A year after the Battle of Tabuk, the Banu Tha...</td>\n",
       "      <td>What did Muhammad require in the military and ...</td>\n",
       "      <td>Acknowledgement of the suzerainty of Medina, r...</td>\n",
       "      <td>['A pledge to obey the laws of Medina', 'A pro...</td>\n",
       "      <td>text-davinci-003-gpt-3-20k-sum-en</td>\n",
       "      <td>wikipedia-20k-en</td>\n",
       "    </tr>\n",
       "    <tr>\n",
       "      <th>4708</th>\n",
       "      <td>Boeing 747</td>\n",
       "      <td>On November 14, 2005, Boeing announced it was ...</td>\n",
       "      <td>What was the first delivery of the 747-8?</td>\n",
       "      <td>Cargolux in 2011</td>\n",
       "      <td>['November 14, 2005', 'February 8, 2010', '2009']</td>\n",
       "      <td>text-davinci-003-gpt-3-20k-sum-en</td>\n",
       "      <td>wikipedia-20k-en</td>\n",
       "    </tr>\n",
       "    <tr>\n",
       "      <th>4709</th>\n",
       "      <td>Frog</td>\n",
       "      <td>Many frogs have webbed feet and the degree of ...</td>\n",
       "      <td>What is the degree of webbing of the toes of W...</td>\n",
       "      <td>Quarter or half webbed</td>\n",
       "      <td>['Fully webbed', 'Not webbed', 'Three quarters...</td>\n",
       "      <td>text-davinci-003-gpt-3-20k-sum-en</td>\n",
       "      <td>wikipedia-20k-en</td>\n",
       "    </tr>\n",
       "    <tr>\n",
       "      <th>4710</th>\n",
       "      <td>Women's National Basketball Association</td>\n",
       "      <td>On March 14, 2016, the WNBA was completing a d...</td>\n",
       "      <td>What does the deal between the WNBA and Verizo...</td>\n",
       "      <td>Space on the front of 10 jerseys, in-arena adv...</td>\n",
       "      <td>['Space on the front of 12 jerseys, in-arena a...</td>\n",
       "      <td>text-davinci-003-gpt-3-20k-sum-en</td>\n",
       "      <td>wikipedia-20k-en</td>\n",
       "    </tr>\n",
       "    <tr>\n",
       "      <th>4711</th>\n",
       "      <td>Jews</td>\n",
       "      <td>Smaller groups include, but are not restricted...</td>\n",
       "      <td>Which of the following is NOT an example of a ...</td>\n",
       "      <td>Beta Israel of Palestine</td>\n",
       "      <td>['Bene Israel', 'Bnei Menashe', 'Kaifeng Jews']</td>\n",
       "      <td>text-davinci-003-gpt-3-20k-sum-en</td>\n",
       "      <td>wikipedia-20k-en</td>\n",
       "    </tr>\n",
       "  </tbody>\n",
       "</table>\n",
       "<p>4712 rows × 7 columns</p>\n",
       "</div>"
      ],
      "text/plain": [
       "                                        topic  \\\n",
       "0                                       Jacob   \n",
       "1                                    Geodesic   \n",
       "2                      Charles Sanders Peirce   \n",
       "3                                 Advertising   \n",
       "4                             Basque language   \n",
       "...                                       ...   \n",
       "4707                                 Muhammad   \n",
       "4708                               Boeing 747   \n",
       "4709                                     Frog   \n",
       "4710  Women's National Basketball Association   \n",
       "4711                                     Jews   \n",
       "\n",
       "                                                context  \\\n",
       "0     Twenty years later, throughout the Middle East...   \n",
       "1     In an appropriate sense, zeros of the second v...   \n",
       "2     \\nPeirce wrote drafts for an introductory text...   \n",
       "3     Advertising may be categorized in a variety of...   \n",
       "4     Part of the Romani community in the Basque Cou...   \n",
       "...                                                 ...   \n",
       "4707  A year after the Battle of Tabuk, the Banu Tha...   \n",
       "4708  On November 14, 2005, Boeing announced it was ...   \n",
       "4709  Many frogs have webbed feet and the degree of ...   \n",
       "4710  On March 14, 2016, the WNBA was completing a d...   \n",
       "4711  Smaller groups include, but are not restricted...   \n",
       "\n",
       "                                               question  \\\n",
       "0     Why did Benjamin stay behind when the other 10...   \n",
       "1                   What are Jacobi fields regarded as?   \n",
       "2     What is the title of the book edited by mathem...   \n",
       "3     What is the most common form of print advertis...   \n",
       "4     What language is spoken by the Romani communit...   \n",
       "...                                                 ...   \n",
       "4707  What did Muhammad require in the military and ...   \n",
       "4708          What was the first delivery of the 747-8?   \n",
       "4709  What is the degree of webbing of the toes of W...   \n",
       "4710  What does the deal between the WNBA and Verizo...   \n",
       "4711  Which of the following is NOT an example of a ...   \n",
       "\n",
       "                                                 answer  \\\n",
       "0                                      To keep him safe   \n",
       "1                          Variations through geodesics   \n",
       "2     The New Elements of Mathematics by Charles S. ...   \n",
       "3                                   Display Advertising   \n",
       "4                                          Erromintxela   \n",
       "...                                                 ...   \n",
       "4707  Acknowledgement of the suzerainty of Medina, r...   \n",
       "4708                                   Cargolux in 2011   \n",
       "4709                             Quarter or half webbed   \n",
       "4710  Space on the front of 10 jerseys, in-arena adv...   \n",
       "4711                           Beta Israel of Palestine   \n",
       "\n",
       "                                                choices  \\\n",
       "0     ['To stay with his father', 'To remain in the ...   \n",
       "1     ['Solutions of the second variation', 'Zeros o...   \n",
       "2     ['The New Elements of Mathematics', 'Charles S...   \n",
       "3     ['Brand Advertising', 'Local Advertising', 'Di...   \n",
       "4                       ['German', 'French', 'Spanish']   \n",
       "...                                                 ...   \n",
       "4707  ['A pledge to obey the laws of Medina', 'A pro...   \n",
       "4708  ['November 14, 2005', 'February 8, 2010', '2009']   \n",
       "4709  ['Fully webbed', 'Not webbed', 'Three quarters...   \n",
       "4710  ['Space on the front of 12 jerseys, in-arena a...   \n",
       "4711    ['Bene Israel', 'Bnei Menashe', 'Kaifeng Jews']   \n",
       "\n",
       "                                  model           dataset  \n",
       "0     text-davinci-003-gpt-3-20k-sum-en  wikipedia-20k-en  \n",
       "1     text-davinci-003-gpt-3-20k-sum-en  wikipedia-20k-en  \n",
       "2     text-davinci-003-gpt-3-20k-sum-en  wikipedia-20k-en  \n",
       "3     text-davinci-003-gpt-3-20k-sum-en  wikipedia-20k-en  \n",
       "4     text-davinci-003-gpt-3-20k-sum-en  wikipedia-20k-en  \n",
       "...                                 ...               ...  \n",
       "4707  text-davinci-003-gpt-3-20k-sum-en  wikipedia-20k-en  \n",
       "4708  text-davinci-003-gpt-3-20k-sum-en  wikipedia-20k-en  \n",
       "4709  text-davinci-003-gpt-3-20k-sum-en  wikipedia-20k-en  \n",
       "4710  text-davinci-003-gpt-3-20k-sum-en  wikipedia-20k-en  \n",
       "4711  text-davinci-003-gpt-3-20k-sum-en  wikipedia-20k-en  \n",
       "\n",
       "[4712 rows x 7 columns]"
      ]
     },
     "execution_count": 4,
     "metadata": {},
     "output_type": "execute_result"
    }
   ],
   "source": [
    "df "
   ]
  },
  {
   "cell_type": "code",
   "execution_count": null,
   "metadata": {},
   "outputs": [],
   "source": []
  }
 ],
 "metadata": {
  "kernelspec": {
   "display_name": "dl",
   "language": "python",
   "name": "python3"
  },
  "language_info": {
   "codemirror_mode": {
    "name": "ipython",
    "version": 3
   },
   "file_extension": ".py",
   "mimetype": "text/x-python",
   "name": "python",
   "nbconvert_exporter": "python",
   "pygments_lexer": "ipython3",
   "version": "3.9.13"
  },
  "orig_nbformat": 4,
  "vscode": {
   "interpreter": {
    "hash": "5fceee184c6517569c17b01ab85c96ed0a3e21c197e837da8a26bf896b5cefc3"
   }
  }
 },
 "nbformat": 4,
 "nbformat_minor": 2
}
